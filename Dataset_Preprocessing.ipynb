{
 "cells": [
  {
   "cell_type": "code",
   "execution_count": 2,
   "id": "14cae001-519e-4bd0-a04a-596441d1dd51",
   "metadata": {},
   "outputs": [],
   "source": [
    "import numpy as np\n",
    "import pandas as pd\n",
    "import matplotlib.pyplot as plt\n",
    "import seaborn as sns"
   ]
  },
  {
   "cell_type": "code",
   "execution_count": 3,
   "id": "020fbbd6-cebc-495a-ae04-3d8aa3a43cf1",
   "metadata": {},
   "outputs": [],
   "source": [
    "df1 = pd.read_csv(\"India Agriculture Crop Production.csv\")"
   ]
  },
  {
   "cell_type": "code",
   "execution_count": 4,
   "id": "6a8a705d-e2b7-426e-a732-09e655555bbf",
   "metadata": {},
   "outputs": [
    {
     "data": {
      "text/plain": [
       "(345407, 10)"
      ]
     },
     "execution_count": 4,
     "metadata": {},
     "output_type": "execute_result"
    }
   ],
   "source": [
    "df1.shape"
   ]
  },
  {
   "cell_type": "code",
   "execution_count": 5,
   "id": "a36acf8b-355b-4063-ad53-a1d819049147",
   "metadata": {},
   "outputs": [
    {
     "data": {
      "text/html": [
       "<div>\n",
       "<style scoped>\n",
       "    .dataframe tbody tr th:only-of-type {\n",
       "        vertical-align: middle;\n",
       "    }\n",
       "\n",
       "    .dataframe tbody tr th {\n",
       "        vertical-align: top;\n",
       "    }\n",
       "\n",
       "    .dataframe thead th {\n",
       "        text-align: right;\n",
       "    }\n",
       "</style>\n",
       "<table border=\"1\" class=\"dataframe\">\n",
       "  <thead>\n",
       "    <tr style=\"text-align: right;\">\n",
       "      <th></th>\n",
       "      <th>State</th>\n",
       "      <th>District</th>\n",
       "      <th>Crop</th>\n",
       "      <th>Year</th>\n",
       "      <th>Season</th>\n",
       "      <th>Area</th>\n",
       "      <th>Area Units</th>\n",
       "      <th>Production</th>\n",
       "      <th>Production Units</th>\n",
       "      <th>Yield</th>\n",
       "    </tr>\n",
       "  </thead>\n",
       "  <tbody>\n",
       "    <tr>\n",
       "      <th>0</th>\n",
       "      <td>Andaman and Nicobar Islands</td>\n",
       "      <td>NICOBARS</td>\n",
       "      <td>Arecanut</td>\n",
       "      <td>2001-02</td>\n",
       "      <td>Kharif</td>\n",
       "      <td>1254.0</td>\n",
       "      <td>Hectare</td>\n",
       "      <td>2061.0</td>\n",
       "      <td>Tonnes</td>\n",
       "      <td>1.643541</td>\n",
       "    </tr>\n",
       "    <tr>\n",
       "      <th>1</th>\n",
       "      <td>Andaman and Nicobar Islands</td>\n",
       "      <td>NICOBARS</td>\n",
       "      <td>Arecanut</td>\n",
       "      <td>2002-03</td>\n",
       "      <td>Whole Year</td>\n",
       "      <td>1258.0</td>\n",
       "      <td>Hectare</td>\n",
       "      <td>2083.0</td>\n",
       "      <td>Tonnes</td>\n",
       "      <td>1.655803</td>\n",
       "    </tr>\n",
       "    <tr>\n",
       "      <th>2</th>\n",
       "      <td>Andaman and Nicobar Islands</td>\n",
       "      <td>NICOBARS</td>\n",
       "      <td>Arecanut</td>\n",
       "      <td>2003-04</td>\n",
       "      <td>Whole Year</td>\n",
       "      <td>1261.0</td>\n",
       "      <td>Hectare</td>\n",
       "      <td>1525.0</td>\n",
       "      <td>Tonnes</td>\n",
       "      <td>1.209358</td>\n",
       "    </tr>\n",
       "    <tr>\n",
       "      <th>3</th>\n",
       "      <td>Andaman and Nicobar Islands</td>\n",
       "      <td>NORTH AND MIDDLE ANDAMAN</td>\n",
       "      <td>Arecanut</td>\n",
       "      <td>2001-02</td>\n",
       "      <td>Kharif</td>\n",
       "      <td>3100.0</td>\n",
       "      <td>Hectare</td>\n",
       "      <td>5239.0</td>\n",
       "      <td>Tonnes</td>\n",
       "      <td>1.690000</td>\n",
       "    </tr>\n",
       "    <tr>\n",
       "      <th>4</th>\n",
       "      <td>Andaman and Nicobar Islands</td>\n",
       "      <td>SOUTH ANDAMANS</td>\n",
       "      <td>Arecanut</td>\n",
       "      <td>2002-03</td>\n",
       "      <td>Whole Year</td>\n",
       "      <td>3105.0</td>\n",
       "      <td>Hectare</td>\n",
       "      <td>5267.0</td>\n",
       "      <td>Tonnes</td>\n",
       "      <td>1.696296</td>\n",
       "    </tr>\n",
       "  </tbody>\n",
       "</table>\n",
       "</div>"
      ],
      "text/plain": [
       "                         State                  District      Crop     Year  \\\n",
       "0  Andaman and Nicobar Islands                  NICOBARS  Arecanut  2001-02   \n",
       "1  Andaman and Nicobar Islands                  NICOBARS  Arecanut  2002-03   \n",
       "2  Andaman and Nicobar Islands                  NICOBARS  Arecanut  2003-04   \n",
       "3  Andaman and Nicobar Islands  NORTH AND MIDDLE ANDAMAN  Arecanut  2001-02   \n",
       "4  Andaman and Nicobar Islands            SOUTH ANDAMANS  Arecanut  2002-03   \n",
       "\n",
       "       Season    Area Area Units  Production Production Units     Yield  \n",
       "0      Kharif  1254.0    Hectare      2061.0           Tonnes  1.643541  \n",
       "1  Whole Year  1258.0    Hectare      2083.0           Tonnes  1.655803  \n",
       "2  Whole Year  1261.0    Hectare      1525.0           Tonnes  1.209358  \n",
       "3      Kharif  3100.0    Hectare      5239.0           Tonnes  1.690000  \n",
       "4  Whole Year  3105.0    Hectare      5267.0           Tonnes  1.696296  "
      ]
     },
     "execution_count": 5,
     "metadata": {},
     "output_type": "execute_result"
    }
   ],
   "source": [
    "df1.head()"
   ]
  },
  {
   "cell_type": "code",
   "execution_count": 6,
   "id": "79624d38-9166-4925-9138-b8748f7e5b54",
   "metadata": {},
   "outputs": [],
   "source": [
    "df2 = pd.read_csv(\"crop_yield.csv\")"
   ]
  },
  {
   "cell_type": "code",
   "execution_count": 7,
   "id": "f0fc6806-42d4-46d0-9de2-b1e5b98a7dad",
   "metadata": {},
   "outputs": [
    {
     "data": {
      "text/plain": [
       "(19689, 10)"
      ]
     },
     "execution_count": 7,
     "metadata": {},
     "output_type": "execute_result"
    }
   ],
   "source": [
    "df2.shape"
   ]
  },
  {
   "cell_type": "code",
   "execution_count": 8,
   "id": "3ebbbbef-afa4-4eb5-bf7c-7f8f420949a3",
   "metadata": {},
   "outputs": [
    {
     "data": {
      "text/html": [
       "<div>\n",
       "<style scoped>\n",
       "    .dataframe tbody tr th:only-of-type {\n",
       "        vertical-align: middle;\n",
       "    }\n",
       "\n",
       "    .dataframe tbody tr th {\n",
       "        vertical-align: top;\n",
       "    }\n",
       "\n",
       "    .dataframe thead th {\n",
       "        text-align: right;\n",
       "    }\n",
       "</style>\n",
       "<table border=\"1\" class=\"dataframe\">\n",
       "  <thead>\n",
       "    <tr style=\"text-align: right;\">\n",
       "      <th></th>\n",
       "      <th>Crop</th>\n",
       "      <th>Crop_Year</th>\n",
       "      <th>Season</th>\n",
       "      <th>State</th>\n",
       "      <th>Area</th>\n",
       "      <th>Production</th>\n",
       "      <th>Annual_Rainfall</th>\n",
       "      <th>Fertilizer</th>\n",
       "      <th>Pesticide</th>\n",
       "      <th>Yield</th>\n",
       "    </tr>\n",
       "  </thead>\n",
       "  <tbody>\n",
       "    <tr>\n",
       "      <th>0</th>\n",
       "      <td>Arecanut</td>\n",
       "      <td>1997</td>\n",
       "      <td>Whole Year</td>\n",
       "      <td>Assam</td>\n",
       "      <td>73814.0</td>\n",
       "      <td>56708</td>\n",
       "      <td>2051.4</td>\n",
       "      <td>7024878.38</td>\n",
       "      <td>22882.34</td>\n",
       "      <td>0.796087</td>\n",
       "    </tr>\n",
       "    <tr>\n",
       "      <th>1</th>\n",
       "      <td>Arhar/Tur</td>\n",
       "      <td>1997</td>\n",
       "      <td>Kharif</td>\n",
       "      <td>Assam</td>\n",
       "      <td>6637.0</td>\n",
       "      <td>4685</td>\n",
       "      <td>2051.4</td>\n",
       "      <td>631643.29</td>\n",
       "      <td>2057.47</td>\n",
       "      <td>0.710435</td>\n",
       "    </tr>\n",
       "    <tr>\n",
       "      <th>2</th>\n",
       "      <td>Castor seed</td>\n",
       "      <td>1997</td>\n",
       "      <td>Kharif</td>\n",
       "      <td>Assam</td>\n",
       "      <td>796.0</td>\n",
       "      <td>22</td>\n",
       "      <td>2051.4</td>\n",
       "      <td>75755.32</td>\n",
       "      <td>246.76</td>\n",
       "      <td>0.238333</td>\n",
       "    </tr>\n",
       "    <tr>\n",
       "      <th>3</th>\n",
       "      <td>Coconut</td>\n",
       "      <td>1997</td>\n",
       "      <td>Whole Year</td>\n",
       "      <td>Assam</td>\n",
       "      <td>19656.0</td>\n",
       "      <td>126905000</td>\n",
       "      <td>2051.4</td>\n",
       "      <td>1870661.52</td>\n",
       "      <td>6093.36</td>\n",
       "      <td>5238.051739</td>\n",
       "    </tr>\n",
       "    <tr>\n",
       "      <th>4</th>\n",
       "      <td>Cotton(lint)</td>\n",
       "      <td>1997</td>\n",
       "      <td>Kharif</td>\n",
       "      <td>Assam</td>\n",
       "      <td>1739.0</td>\n",
       "      <td>794</td>\n",
       "      <td>2051.4</td>\n",
       "      <td>165500.63</td>\n",
       "      <td>539.09</td>\n",
       "      <td>0.420909</td>\n",
       "    </tr>\n",
       "  </tbody>\n",
       "</table>\n",
       "</div>"
      ],
      "text/plain": [
       "           Crop  Crop_Year       Season  State     Area  Production  \\\n",
       "0      Arecanut       1997  Whole Year   Assam  73814.0       56708   \n",
       "1     Arhar/Tur       1997  Kharif       Assam   6637.0        4685   \n",
       "2   Castor seed       1997  Kharif       Assam    796.0          22   \n",
       "3      Coconut        1997  Whole Year   Assam  19656.0   126905000   \n",
       "4  Cotton(lint)       1997  Kharif       Assam   1739.0         794   \n",
       "\n",
       "   Annual_Rainfall  Fertilizer  Pesticide        Yield  \n",
       "0           2051.4  7024878.38   22882.34     0.796087  \n",
       "1           2051.4   631643.29    2057.47     0.710435  \n",
       "2           2051.4    75755.32     246.76     0.238333  \n",
       "3           2051.4  1870661.52    6093.36  5238.051739  \n",
       "4           2051.4   165500.63     539.09     0.420909  "
      ]
     },
     "execution_count": 8,
     "metadata": {},
     "output_type": "execute_result"
    }
   ],
   "source": [
    "df2.head()"
   ]
  },
  {
   "cell_type": "code",
   "execution_count": 9,
   "id": "8c4a7086-2b44-415e-87b8-96aa5a40a4c8",
   "metadata": {},
   "outputs": [],
   "source": [
    "del df1['District']"
   ]
  },
  {
   "cell_type": "code",
   "execution_count": 10,
   "id": "56ff04a9-e928-4852-b3e9-5f907f68ffe9",
   "metadata": {},
   "outputs": [
    {
     "data": {
      "text/html": [
       "<div>\n",
       "<style scoped>\n",
       "    .dataframe tbody tr th:only-of-type {\n",
       "        vertical-align: middle;\n",
       "    }\n",
       "\n",
       "    .dataframe tbody tr th {\n",
       "        vertical-align: top;\n",
       "    }\n",
       "\n",
       "    .dataframe thead th {\n",
       "        text-align: right;\n",
       "    }\n",
       "</style>\n",
       "<table border=\"1\" class=\"dataframe\">\n",
       "  <thead>\n",
       "    <tr style=\"text-align: right;\">\n",
       "      <th></th>\n",
       "      <th>State</th>\n",
       "      <th>Crop</th>\n",
       "      <th>Year</th>\n",
       "      <th>Season</th>\n",
       "      <th>Area</th>\n",
       "      <th>Area Units</th>\n",
       "      <th>Production</th>\n",
       "      <th>Production Units</th>\n",
       "      <th>Yield</th>\n",
       "    </tr>\n",
       "  </thead>\n",
       "  <tbody>\n",
       "    <tr>\n",
       "      <th>0</th>\n",
       "      <td>Andaman and Nicobar Islands</td>\n",
       "      <td>Arecanut</td>\n",
       "      <td>2001-02</td>\n",
       "      <td>Kharif</td>\n",
       "      <td>1254.0</td>\n",
       "      <td>Hectare</td>\n",
       "      <td>2061.0</td>\n",
       "      <td>Tonnes</td>\n",
       "      <td>1.643541</td>\n",
       "    </tr>\n",
       "    <tr>\n",
       "      <th>1</th>\n",
       "      <td>Andaman and Nicobar Islands</td>\n",
       "      <td>Arecanut</td>\n",
       "      <td>2002-03</td>\n",
       "      <td>Whole Year</td>\n",
       "      <td>1258.0</td>\n",
       "      <td>Hectare</td>\n",
       "      <td>2083.0</td>\n",
       "      <td>Tonnes</td>\n",
       "      <td>1.655803</td>\n",
       "    </tr>\n",
       "    <tr>\n",
       "      <th>2</th>\n",
       "      <td>Andaman and Nicobar Islands</td>\n",
       "      <td>Arecanut</td>\n",
       "      <td>2003-04</td>\n",
       "      <td>Whole Year</td>\n",
       "      <td>1261.0</td>\n",
       "      <td>Hectare</td>\n",
       "      <td>1525.0</td>\n",
       "      <td>Tonnes</td>\n",
       "      <td>1.209358</td>\n",
       "    </tr>\n",
       "    <tr>\n",
       "      <th>3</th>\n",
       "      <td>Andaman and Nicobar Islands</td>\n",
       "      <td>Arecanut</td>\n",
       "      <td>2001-02</td>\n",
       "      <td>Kharif</td>\n",
       "      <td>3100.0</td>\n",
       "      <td>Hectare</td>\n",
       "      <td>5239.0</td>\n",
       "      <td>Tonnes</td>\n",
       "      <td>1.690000</td>\n",
       "    </tr>\n",
       "    <tr>\n",
       "      <th>4</th>\n",
       "      <td>Andaman and Nicobar Islands</td>\n",
       "      <td>Arecanut</td>\n",
       "      <td>2002-03</td>\n",
       "      <td>Whole Year</td>\n",
       "      <td>3105.0</td>\n",
       "      <td>Hectare</td>\n",
       "      <td>5267.0</td>\n",
       "      <td>Tonnes</td>\n",
       "      <td>1.696296</td>\n",
       "    </tr>\n",
       "  </tbody>\n",
       "</table>\n",
       "</div>"
      ],
      "text/plain": [
       "                         State      Crop     Year      Season    Area  \\\n",
       "0  Andaman and Nicobar Islands  Arecanut  2001-02      Kharif  1254.0   \n",
       "1  Andaman and Nicobar Islands  Arecanut  2002-03  Whole Year  1258.0   \n",
       "2  Andaman and Nicobar Islands  Arecanut  2003-04  Whole Year  1261.0   \n",
       "3  Andaman and Nicobar Islands  Arecanut  2001-02      Kharif  3100.0   \n",
       "4  Andaman and Nicobar Islands  Arecanut  2002-03  Whole Year  3105.0   \n",
       "\n",
       "  Area Units  Production Production Units     Yield  \n",
       "0    Hectare      2061.0           Tonnes  1.643541  \n",
       "1    Hectare      2083.0           Tonnes  1.655803  \n",
       "2    Hectare      1525.0           Tonnes  1.209358  \n",
       "3    Hectare      5239.0           Tonnes  1.690000  \n",
       "4    Hectare      5267.0           Tonnes  1.696296  "
      ]
     },
     "execution_count": 10,
     "metadata": {},
     "output_type": "execute_result"
    }
   ],
   "source": [
    "df1.head()"
   ]
  },
  {
   "cell_type": "code",
   "execution_count": 11,
   "id": "1d4b30ab-233f-4700-b2de-acb56c473590",
   "metadata": {},
   "outputs": [
    {
     "data": {
      "text/plain": [
       "{'Andaman and Nicobar Islands',\n",
       " 'Andhra Pradesh',\n",
       " 'Arunachal Pradesh',\n",
       " 'Assam',\n",
       " 'Bihar',\n",
       " 'Chandigarh',\n",
       " 'Chhattisgarh',\n",
       " 'Dadra and Nagar Haveli',\n",
       " 'Daman and Diu',\n",
       " 'Delhi',\n",
       " 'Goa',\n",
       " 'Gujarat',\n",
       " 'Haryana',\n",
       " 'Himachal Pradesh',\n",
       " 'Jammu and Kashmir',\n",
       " 'Jharkhand',\n",
       " 'Karnataka',\n",
       " 'Kerala',\n",
       " 'Laddakh',\n",
       " 'Madhya Pradesh',\n",
       " 'Maharashtra',\n",
       " 'Manipur',\n",
       " 'Meghalaya',\n",
       " 'Mizoram',\n",
       " 'Nagaland',\n",
       " 'Odisha',\n",
       " 'Puducherry',\n",
       " 'Punjab',\n",
       " 'Rajasthan',\n",
       " 'Sikkim',\n",
       " 'Tamil Nadu',\n",
       " 'Telangana',\n",
       " 'Tripura',\n",
       " 'Uttar Pradesh',\n",
       " 'Uttarakhand',\n",
       " 'West Bengal'}"
      ]
     },
     "execution_count": 11,
     "metadata": {},
     "output_type": "execute_result"
    }
   ],
   "source": [
    "q = set()\n",
    "for val in df1[\"State\"]:\n",
    "    if val not in q:\n",
    "        q.add(val)\n",
    "\n",
    "q"
   ]
  },
  {
   "cell_type": "code",
   "execution_count": 12,
   "id": "c35d7404-0a7e-4e8c-9860-a30ece2c2d03",
   "metadata": {},
   "outputs": [
    {
     "data": {
      "text/plain": [
       "{'Andhra Pradesh',\n",
       " 'Arunachal Pradesh',\n",
       " 'Assam',\n",
       " 'Bihar',\n",
       " 'Chhattisgarh',\n",
       " 'Delhi',\n",
       " 'Goa',\n",
       " 'Gujarat',\n",
       " 'Haryana',\n",
       " 'Himachal Pradesh',\n",
       " 'Jammu and Kashmir',\n",
       " 'Jharkhand',\n",
       " 'Karnataka',\n",
       " 'Kerala',\n",
       " 'Madhya Pradesh',\n",
       " 'Maharashtra',\n",
       " 'Manipur',\n",
       " 'Meghalaya',\n",
       " 'Mizoram',\n",
       " 'Nagaland',\n",
       " 'Odisha',\n",
       " 'Puducherry',\n",
       " 'Punjab',\n",
       " 'Sikkim',\n",
       " 'Tamil Nadu',\n",
       " 'Telangana',\n",
       " 'Tripura',\n",
       " 'Uttar Pradesh',\n",
       " 'Uttarakhand',\n",
       " 'West Bengal'}"
      ]
     },
     "execution_count": 12,
     "metadata": {},
     "output_type": "execute_result"
    }
   ],
   "source": [
    "m = set()\n",
    "for val in df2[\"State\"]:\n",
    "    if val not in m:\n",
    "        m.add(val)\n",
    "m"
   ]
  },
  {
   "cell_type": "code",
   "execution_count": 24,
   "id": "e908bd14-f58f-4eca-b69c-cefaccc747fe",
   "metadata": {},
   "outputs": [],
   "source": [
    "common_states = {\n",
    " 'Andhra Pradesh',\n",
    " 'Arunachal Pradesh',\n",
    " 'Assam',\n",
    " 'Bihar',\n",
    " 'Chhattisgarh',\n",
    " 'Delhi',\n",
    " 'Goa',\n",
    " 'Gujarat',\n",
    " 'Haryana',\n",
    " 'Himachal Pradesh',\n",
    " 'Jammu and Kashmir',\n",
    " 'Jharkhand',\n",
    " 'Karnataka',\n",
    " 'Kerala',\n",
    " 'Madhya Pradesh',\n",
    " 'Maharashtra',\n",
    " 'Manipur',\n",
    " 'Meghalaya',\n",
    " 'Mizoram',\n",
    " 'Nagaland',\n",
    " 'Odisha',\n",
    " 'Puducherry',\n",
    " 'Punjab',\n",
    " 'Sikkim',\n",
    " 'Tamil Nadu',\n",
    " 'Telangana',\n",
    " 'Tripura',\n",
    " 'Uttar Pradesh',\n",
    " 'Uttarakhand',\n",
    " 'West Bengal'\n",
    "}\n"
   ]
  },
  {
   "cell_type": "code",
   "execution_count": 26,
   "id": "f7c6f430-181a-4032-80bf-49dadf9bb675",
   "metadata": {},
   "outputs": [
    {
     "data": {
      "text/plain": [
       "{'Andhra Pradesh',\n",
       " 'Arunachal Pradesh',\n",
       " 'Assam',\n",
       " 'Bihar',\n",
       " 'Chhattisgarh',\n",
       " 'Delhi',\n",
       " 'Goa',\n",
       " 'Gujarat',\n",
       " 'Haryana',\n",
       " 'Himachal Pradesh',\n",
       " 'Jammu and Kashmir',\n",
       " 'Jharkhand',\n",
       " 'Karnataka',\n",
       " 'Kerala',\n",
       " 'Madhya Pradesh',\n",
       " 'Maharashtra',\n",
       " 'Manipur',\n",
       " 'Meghalaya',\n",
       " 'Mizoram',\n",
       " 'Nagaland',\n",
       " 'Odisha',\n",
       " 'Puducherry',\n",
       " 'Punjab',\n",
       " 'Sikkim',\n",
       " 'Tamil Nadu',\n",
       " 'Telangana',\n",
       " 'Tripura',\n",
       " 'Uttar Pradesh',\n",
       " 'Uttarakhand',\n",
       " 'West Bengal'}"
      ]
     },
     "execution_count": 26,
     "metadata": {},
     "output_type": "execute_result"
    }
   ],
   "source": [
    "common_states"
   ]
  },
  {
   "cell_type": "code",
   "execution_count": 28,
   "id": "ccc52e8e-7464-46f5-9494-075e66a4ac2e",
   "metadata": {},
   "outputs": [],
   "source": [
    "del common_states\n"
   ]
  },
  {
   "cell_type": "code",
   "execution_count": 30,
   "id": "12e8cfff-549e-423f-aa25-e5e80b262e04",
   "metadata": {},
   "outputs": [],
   "source": [
    "common_states = {\n",
    " 'Andhra Pradesh','Arunachal Pradesh','Assam','Bihar','Chhattisgarh','Delhi',\n",
    " 'Goa','Gujarat','Haryana','Himachal Pradesh','Jammu and Kashmir','Jharkhand',\n",
    " 'Karnataka','Kerala','Madhya Pradesh','Maharashtra','Manipur','Meghalaya',\n",
    " 'Mizoram','Nagaland','Odisha','Puducherry','Punjab','Sikkim','Tamil Nadu',\n",
    " 'Telangana','Tripura','Uttar Pradesh','Uttarakhand','West Bengal'\n",
    "}\n"
   ]
  },
  {
   "cell_type": "code",
   "execution_count": 32,
   "id": "f183482e-16c5-443c-8ed2-e03d0df2a7f2",
   "metadata": {},
   "outputs": [
    {
     "data": {
      "text/plain": [
       "{'Andhra Pradesh',\n",
       " 'Arunachal Pradesh',\n",
       " 'Assam',\n",
       " 'Bihar',\n",
       " 'Chhattisgarh',\n",
       " 'Delhi',\n",
       " 'Goa',\n",
       " 'Gujarat',\n",
       " 'Haryana',\n",
       " 'Himachal Pradesh',\n",
       " 'Jammu and Kashmir',\n",
       " 'Jharkhand',\n",
       " 'Karnataka',\n",
       " 'Kerala',\n",
       " 'Madhya Pradesh',\n",
       " 'Maharashtra',\n",
       " 'Manipur',\n",
       " 'Meghalaya',\n",
       " 'Mizoram',\n",
       " 'Nagaland',\n",
       " 'Odisha',\n",
       " 'Puducherry',\n",
       " 'Punjab',\n",
       " 'Sikkim',\n",
       " 'Tamil Nadu',\n",
       " 'Telangana',\n",
       " 'Tripura',\n",
       " 'Uttar Pradesh',\n",
       " 'Uttarakhand',\n",
       " 'West Bengal'}"
      ]
     },
     "execution_count": 32,
     "metadata": {},
     "output_type": "execute_result"
    }
   ],
   "source": [
    "common_states"
   ]
  },
  {
   "cell_type": "code",
   "execution_count": 34,
   "id": "252de89a-37a4-4c53-af64-7754853754dd",
   "metadata": {},
   "outputs": [],
   "source": [
    "df1['Year'] = df1['Year'].astype(str).str.extract(r'(\\d{4})').astype(int)\n",
    "df2['Crop_Year'] = df2['Crop_Year'].astype(int)\n",
    "\n",
    "df1 = df1[df1['Year'] >= 2001]\n",
    "df2 = df2[df2['Crop_Year'] >= 2001]\n"
   ]
  },
  {
   "cell_type": "code",
   "execution_count": 35,
   "id": "dcecb113-a2b2-4b39-ad08-52b58b0d6f71",
   "metadata": {},
   "outputs": [],
   "source": [
    "common_states = {\n",
    " 'Andhra Pradesh','Arunachal Pradesh','Assam','Bihar','Chhattisgarh','Delhi',\n",
    " 'Goa','Gujarat','Haryana','Himachal Pradesh','Jammu and Kashmir','Jharkhand',\n",
    " 'Karnataka','Kerala','Madhya Pradesh','Maharashtra','Manipur','Meghalaya',\n",
    " 'Mizoram','Nagaland','Odisha','Puducherry','Punjab','Sikkim','Tamil Nadu',\n",
    " 'Telangana','Tripura','Uttar Pradesh','Uttarakhand','West Bengal'\n",
    "}\n",
    "\n",
    "df1 = df1[df1['State'].isin(common_states)]\n",
    "df2 = df2[df2['State'].isin(common_states)]\n"
   ]
  },
  {
   "cell_type": "code",
   "execution_count": 36,
   "id": "cd0ea96d-ef2b-4714-9c70-31dbf7a07278",
   "metadata": {},
   "outputs": [],
   "source": [
    "# Remove spaces and lowercase everything for consistency\n",
    "for col in ['State','Crop','Season']:\n",
    "    df1[col] = df1[col].str.strip().str.lower()\n",
    "    df2[col] = df2[col].str.strip().str.lower()\n"
   ]
  },
  {
   "cell_type": "code",
   "execution_count": 37,
   "id": "4fef33da-3ca9-4b9e-b0b0-6ca5230284cf",
   "metadata": {},
   "outputs": [],
   "source": [
    "df2['Fertilizer_per_Hectare'] = df2['Fertilizer'] / df2['Area'].replace(0,1)\n",
    "df2['Pesticide_per_Hectare'] = df2['Pesticide'] / df2['Area'].replace(0,1)\n"
   ]
  },
  {
   "cell_type": "code",
   "execution_count": 40,
   "id": "94935876-2eaa-44d0-9b63-fe9d23fe48d0",
   "metadata": {},
   "outputs": [],
   "source": [
    "merged_df = pd.merge(\n",
    "    df1,\n",
    "    df2[['State','Crop','Crop_Year','Season','Annual_Rainfall','Fertilizer_per_Hectare','Pesticide_per_Hectare']],\n",
    "    left_on=['State','Crop','Year','Season'],\n",
    "    right_on=['State','Crop','Crop_Year','Season'],\n",
    "    how='left'\n",
    ").drop(columns=['Crop_Year'])\n"
   ]
  },
  {
   "cell_type": "code",
   "execution_count": 43,
   "id": "9f464a5a-0250-4e58-8b3c-116aa6d34898",
   "metadata": {},
   "outputs": [
    {
     "data": {
      "text/html": [
       "<div>\n",
       "<style scoped>\n",
       "    .dataframe tbody tr th:only-of-type {\n",
       "        vertical-align: middle;\n",
       "    }\n",
       "\n",
       "    .dataframe tbody tr th {\n",
       "        vertical-align: top;\n",
       "    }\n",
       "\n",
       "    .dataframe thead th {\n",
       "        text-align: right;\n",
       "    }\n",
       "</style>\n",
       "<table border=\"1\" class=\"dataframe\">\n",
       "  <thead>\n",
       "    <tr style=\"text-align: right;\">\n",
       "      <th></th>\n",
       "      <th>State</th>\n",
       "      <th>Crop</th>\n",
       "      <th>Year</th>\n",
       "      <th>Season</th>\n",
       "      <th>Area</th>\n",
       "      <th>Area Units</th>\n",
       "      <th>Production</th>\n",
       "      <th>Production Units</th>\n",
       "      <th>Yield</th>\n",
       "      <th>Annual_Rainfall</th>\n",
       "      <th>Fertilizer_per_Hectare</th>\n",
       "      <th>Pesticide_per_Hectare</th>\n",
       "    </tr>\n",
       "  </thead>\n",
       "  <tbody>\n",
       "    <tr>\n",
       "      <th>0</th>\n",
       "      <td>andhra pradesh</td>\n",
       "      <td>arecanut</td>\n",
       "      <td>2001</td>\n",
       "      <td>whole year</td>\n",
       "      <td>257.0</td>\n",
       "      <td>Hectare</td>\n",
       "      <td>430.0</td>\n",
       "      <td>Tonnes</td>\n",
       "      <td>1.673152</td>\n",
       "      <td>928.4</td>\n",
       "      <td>102.13</td>\n",
       "      <td>0.26</td>\n",
       "    </tr>\n",
       "    <tr>\n",
       "      <th>1</th>\n",
       "      <td>andhra pradesh</td>\n",
       "      <td>arecanut</td>\n",
       "      <td>2002</td>\n",
       "      <td>whole year</td>\n",
       "      <td>263.0</td>\n",
       "      <td>Hectare</td>\n",
       "      <td>379.0</td>\n",
       "      <td>Tonnes</td>\n",
       "      <td>1.441065</td>\n",
       "      <td>648.1</td>\n",
       "      <td>94.67</td>\n",
       "      <td>0.25</td>\n",
       "    </tr>\n",
       "    <tr>\n",
       "      <th>2</th>\n",
       "      <td>andhra pradesh</td>\n",
       "      <td>arecanut</td>\n",
       "      <td>2003</td>\n",
       "      <td>whole year</td>\n",
       "      <td>266.0</td>\n",
       "      <td>Hectare</td>\n",
       "      <td>189.0</td>\n",
       "      <td>Tonnes</td>\n",
       "      <td>0.710526</td>\n",
       "      <td>826.0</td>\n",
       "      <td>98.98</td>\n",
       "      <td>0.24</td>\n",
       "    </tr>\n",
       "    <tr>\n",
       "      <th>3</th>\n",
       "      <td>andhra pradesh</td>\n",
       "      <td>arecanut</td>\n",
       "      <td>2001</td>\n",
       "      <td>whole year</td>\n",
       "      <td>7.0</td>\n",
       "      <td>Hectare</td>\n",
       "      <td>12.0</td>\n",
       "      <td>Tonnes</td>\n",
       "      <td>1.714286</td>\n",
       "      <td>928.4</td>\n",
       "      <td>102.13</td>\n",
       "      <td>0.26</td>\n",
       "    </tr>\n",
       "    <tr>\n",
       "      <th>4</th>\n",
       "      <td>andhra pradesh</td>\n",
       "      <td>arecanut</td>\n",
       "      <td>2002</td>\n",
       "      <td>whole year</td>\n",
       "      <td>7.0</td>\n",
       "      <td>Hectare</td>\n",
       "      <td>10.0</td>\n",
       "      <td>Tonnes</td>\n",
       "      <td>1.428571</td>\n",
       "      <td>648.1</td>\n",
       "      <td>94.67</td>\n",
       "      <td>0.25</td>\n",
       "    </tr>\n",
       "  </tbody>\n",
       "</table>\n",
       "</div>"
      ],
      "text/plain": [
       "            State      Crop  Year      Season   Area Area Units  Production  \\\n",
       "0  andhra pradesh  arecanut  2001  whole year  257.0    Hectare       430.0   \n",
       "1  andhra pradesh  arecanut  2002  whole year  263.0    Hectare       379.0   \n",
       "2  andhra pradesh  arecanut  2003  whole year  266.0    Hectare       189.0   \n",
       "3  andhra pradesh  arecanut  2001  whole year    7.0    Hectare        12.0   \n",
       "4  andhra pradesh  arecanut  2002  whole year    7.0    Hectare        10.0   \n",
       "\n",
       "  Production Units     Yield  Annual_Rainfall  Fertilizer_per_Hectare  \\\n",
       "0           Tonnes  1.673152            928.4                  102.13   \n",
       "1           Tonnes  1.441065            648.1                   94.67   \n",
       "2           Tonnes  0.710526            826.0                   98.98   \n",
       "3           Tonnes  1.714286            928.4                  102.13   \n",
       "4           Tonnes  1.428571            648.1                   94.67   \n",
       "\n",
       "   Pesticide_per_Hectare  \n",
       "0                   0.26  \n",
       "1                   0.25  \n",
       "2                   0.24  \n",
       "3                   0.26  \n",
       "4                   0.25  "
      ]
     },
     "execution_count": 43,
     "metadata": {},
     "output_type": "execute_result"
    }
   ],
   "source": [
    "merged_df.head()"
   ]
  },
  {
   "cell_type": "code",
   "execution_count": 46,
   "id": "33b7ff52-1136-4658-a9c0-7eeaf24dda05",
   "metadata": {},
   "outputs": [],
   "source": [
    "for idx, row in merged_df[merged_df['Annual_Rainfall'].isna()].iterrows():\n",
    "    state, crop, year, season = row['State'], row['Crop'], row['Year'], row['Season']\n",
    "    \n",
    "    # Filter df2 for same state, crop, season\n",
    "    candidates = df2[(df2['State']==state) & (df2['Crop']==crop) & (df2['Season']==season)]\n",
    "    \n",
    "    if not candidates.empty:\n",
    "        # Pick nearest year\n",
    "        nearest = candidates.iloc[(candidates['Crop_Year'] - year).abs().argsort()[:1]]\n",
    "        merged_df.at[idx, 'Annual_Rainfall'] = nearest['Annual_Rainfall'].values[0]\n",
    "        merged_df.at[idx, 'Fertilizer_per_Hectare'] = nearest['Fertilizer_per_Hectare'].values[0]\n",
    "        merged_df.at[idx, 'Pesticide_per_Hectare'] = nearest['Pesticide_per_Hectare'].values[0]\n"
   ]
  },
  {
   "cell_type": "code",
   "execution_count": 48,
   "id": "9791e247-9031-4471-97ea-0c1a89f8f80b",
   "metadata": {},
   "outputs": [],
   "source": [
    "for feature in ['Annual_Rainfall','Fertilizer_per_Hectare','Pesticide_per_Hectare']:\n",
    "    merged_df[feature] = merged_df.groupby('State')[feature].transform(lambda x: x.fillna(x.mean()))\n"
   ]
  },
  {
   "cell_type": "code",
   "execution_count": 50,
   "id": "48bc5ae3-5344-4c88-86c7-e669875e393c",
   "metadata": {},
   "outputs": [],
   "source": [
    "merged_df.rename(columns={\n",
    "    'Fertilizer_per_Hectare':'Fertilizer',\n",
    "    'Pesticide_per_Hectare':'Pesticide'\n",
    "}, inplace=True)\n"
   ]
  },
  {
   "cell_type": "code",
   "execution_count": 52,
   "id": "a1a4d26c-7638-499b-a2d6-3c9741b5bece",
   "metadata": {},
   "outputs": [
    {
     "data": {
      "text/html": [
       "<div>\n",
       "<style scoped>\n",
       "    .dataframe tbody tr th:only-of-type {\n",
       "        vertical-align: middle;\n",
       "    }\n",
       "\n",
       "    .dataframe tbody tr th {\n",
       "        vertical-align: top;\n",
       "    }\n",
       "\n",
       "    .dataframe thead th {\n",
       "        text-align: right;\n",
       "    }\n",
       "</style>\n",
       "<table border=\"1\" class=\"dataframe\">\n",
       "  <thead>\n",
       "    <tr style=\"text-align: right;\">\n",
       "      <th></th>\n",
       "      <th>State</th>\n",
       "      <th>Crop</th>\n",
       "      <th>Year</th>\n",
       "      <th>Season</th>\n",
       "      <th>Area</th>\n",
       "      <th>Area Units</th>\n",
       "      <th>Production</th>\n",
       "      <th>Production Units</th>\n",
       "      <th>Yield</th>\n",
       "      <th>Annual_Rainfall</th>\n",
       "      <th>Fertilizer</th>\n",
       "      <th>Pesticide</th>\n",
       "    </tr>\n",
       "  </thead>\n",
       "  <tbody>\n",
       "    <tr>\n",
       "      <th>0</th>\n",
       "      <td>andhra pradesh</td>\n",
       "      <td>arecanut</td>\n",
       "      <td>2001</td>\n",
       "      <td>whole year</td>\n",
       "      <td>257.0</td>\n",
       "      <td>Hectare</td>\n",
       "      <td>430.0</td>\n",
       "      <td>Tonnes</td>\n",
       "      <td>1.673152</td>\n",
       "      <td>928.400000</td>\n",
       "      <td>102.130000</td>\n",
       "      <td>0.260000</td>\n",
       "    </tr>\n",
       "    <tr>\n",
       "      <th>1</th>\n",
       "      <td>andhra pradesh</td>\n",
       "      <td>arecanut</td>\n",
       "      <td>2002</td>\n",
       "      <td>whole year</td>\n",
       "      <td>263.0</td>\n",
       "      <td>Hectare</td>\n",
       "      <td>379.0</td>\n",
       "      <td>Tonnes</td>\n",
       "      <td>1.441065</td>\n",
       "      <td>648.100000</td>\n",
       "      <td>94.670000</td>\n",
       "      <td>0.250000</td>\n",
       "    </tr>\n",
       "    <tr>\n",
       "      <th>2</th>\n",
       "      <td>andhra pradesh</td>\n",
       "      <td>arecanut</td>\n",
       "      <td>2003</td>\n",
       "      <td>whole year</td>\n",
       "      <td>266.0</td>\n",
       "      <td>Hectare</td>\n",
       "      <td>189.0</td>\n",
       "      <td>Tonnes</td>\n",
       "      <td>0.710526</td>\n",
       "      <td>826.000000</td>\n",
       "      <td>98.980000</td>\n",
       "      <td>0.240000</td>\n",
       "    </tr>\n",
       "    <tr>\n",
       "      <th>3</th>\n",
       "      <td>andhra pradesh</td>\n",
       "      <td>arecanut</td>\n",
       "      <td>2001</td>\n",
       "      <td>whole year</td>\n",
       "      <td>7.0</td>\n",
       "      <td>Hectare</td>\n",
       "      <td>12.0</td>\n",
       "      <td>Tonnes</td>\n",
       "      <td>1.714286</td>\n",
       "      <td>928.400000</td>\n",
       "      <td>102.130000</td>\n",
       "      <td>0.260000</td>\n",
       "    </tr>\n",
       "    <tr>\n",
       "      <th>4</th>\n",
       "      <td>andhra pradesh</td>\n",
       "      <td>arecanut</td>\n",
       "      <td>2002</td>\n",
       "      <td>whole year</td>\n",
       "      <td>7.0</td>\n",
       "      <td>Hectare</td>\n",
       "      <td>10.0</td>\n",
       "      <td>Tonnes</td>\n",
       "      <td>1.428571</td>\n",
       "      <td>648.100000</td>\n",
       "      <td>94.670000</td>\n",
       "      <td>0.250000</td>\n",
       "    </tr>\n",
       "    <tr>\n",
       "      <th>...</th>\n",
       "      <td>...</td>\n",
       "      <td>...</td>\n",
       "      <td>...</td>\n",
       "      <td>...</td>\n",
       "      <td>...</td>\n",
       "      <td>...</td>\n",
       "      <td>...</td>\n",
       "      <td>...</td>\n",
       "      <td>...</td>\n",
       "      <td>...</td>\n",
       "      <td>...</td>\n",
       "      <td>...</td>\n",
       "    </tr>\n",
       "    <tr>\n",
       "      <th>279639</th>\n",
       "      <td>manipur</td>\n",
       "      <td>NaN</td>\n",
       "      <td>2019</td>\n",
       "      <td>rabi</td>\n",
       "      <td>NaN</td>\n",
       "      <td>Hectare</td>\n",
       "      <td>NaN</td>\n",
       "      <td>Tonnes</td>\n",
       "      <td>NaN</td>\n",
       "      <td>1442.646505</td>\n",
       "      <td>145.661361</td>\n",
       "      <td>0.271426</td>\n",
       "    </tr>\n",
       "    <tr>\n",
       "      <th>279640</th>\n",
       "      <td>manipur</td>\n",
       "      <td>NaN</td>\n",
       "      <td>2019</td>\n",
       "      <td>rabi</td>\n",
       "      <td>NaN</td>\n",
       "      <td>Hectare</td>\n",
       "      <td>NaN</td>\n",
       "      <td>Tonnes</td>\n",
       "      <td>NaN</td>\n",
       "      <td>1442.646505</td>\n",
       "      <td>145.661361</td>\n",
       "      <td>0.271426</td>\n",
       "    </tr>\n",
       "    <tr>\n",
       "      <th>279641</th>\n",
       "      <td>manipur</td>\n",
       "      <td>NaN</td>\n",
       "      <td>2019</td>\n",
       "      <td>rabi</td>\n",
       "      <td>NaN</td>\n",
       "      <td>Hectare</td>\n",
       "      <td>NaN</td>\n",
       "      <td>Tonnes</td>\n",
       "      <td>NaN</td>\n",
       "      <td>1442.646505</td>\n",
       "      <td>145.661361</td>\n",
       "      <td>0.271426</td>\n",
       "    </tr>\n",
       "    <tr>\n",
       "      <th>279642</th>\n",
       "      <td>manipur</td>\n",
       "      <td>NaN</td>\n",
       "      <td>2019</td>\n",
       "      <td>rabi</td>\n",
       "      <td>NaN</td>\n",
       "      <td>Hectare</td>\n",
       "      <td>NaN</td>\n",
       "      <td>Tonnes</td>\n",
       "      <td>NaN</td>\n",
       "      <td>1442.646505</td>\n",
       "      <td>145.661361</td>\n",
       "      <td>0.271426</td>\n",
       "    </tr>\n",
       "    <tr>\n",
       "      <th>279643</th>\n",
       "      <td>manipur</td>\n",
       "      <td>NaN</td>\n",
       "      <td>2019</td>\n",
       "      <td>rabi</td>\n",
       "      <td>NaN</td>\n",
       "      <td>Hectare</td>\n",
       "      <td>NaN</td>\n",
       "      <td>Tonnes</td>\n",
       "      <td>NaN</td>\n",
       "      <td>1442.646505</td>\n",
       "      <td>145.661361</td>\n",
       "      <td>0.271426</td>\n",
       "    </tr>\n",
       "  </tbody>\n",
       "</table>\n",
       "<p>279644 rows × 12 columns</p>\n",
       "</div>"
      ],
      "text/plain": [
       "                 State      Crop  Year      Season   Area Area Units  \\\n",
       "0       andhra pradesh  arecanut  2001  whole year  257.0    Hectare   \n",
       "1       andhra pradesh  arecanut  2002  whole year  263.0    Hectare   \n",
       "2       andhra pradesh  arecanut  2003  whole year  266.0    Hectare   \n",
       "3       andhra pradesh  arecanut  2001  whole year    7.0    Hectare   \n",
       "4       andhra pradesh  arecanut  2002  whole year    7.0    Hectare   \n",
       "...                ...       ...   ...         ...    ...        ...   \n",
       "279639         manipur       NaN  2019        rabi    NaN    Hectare   \n",
       "279640         manipur       NaN  2019        rabi    NaN    Hectare   \n",
       "279641         manipur       NaN  2019        rabi    NaN    Hectare   \n",
       "279642         manipur       NaN  2019        rabi    NaN    Hectare   \n",
       "279643         manipur       NaN  2019        rabi    NaN    Hectare   \n",
       "\n",
       "        Production Production Units     Yield  Annual_Rainfall  Fertilizer  \\\n",
       "0            430.0           Tonnes  1.673152       928.400000  102.130000   \n",
       "1            379.0           Tonnes  1.441065       648.100000   94.670000   \n",
       "2            189.0           Tonnes  0.710526       826.000000   98.980000   \n",
       "3             12.0           Tonnes  1.714286       928.400000  102.130000   \n",
       "4             10.0           Tonnes  1.428571       648.100000   94.670000   \n",
       "...            ...              ...       ...              ...         ...   \n",
       "279639         NaN           Tonnes       NaN      1442.646505  145.661361   \n",
       "279640         NaN           Tonnes       NaN      1442.646505  145.661361   \n",
       "279641         NaN           Tonnes       NaN      1442.646505  145.661361   \n",
       "279642         NaN           Tonnes       NaN      1442.646505  145.661361   \n",
       "279643         NaN           Tonnes       NaN      1442.646505  145.661361   \n",
       "\n",
       "        Pesticide  \n",
       "0        0.260000  \n",
       "1        0.250000  \n",
       "2        0.240000  \n",
       "3        0.260000  \n",
       "4        0.250000  \n",
       "...           ...  \n",
       "279639   0.271426  \n",
       "279640   0.271426  \n",
       "279641   0.271426  \n",
       "279642   0.271426  \n",
       "279643   0.271426  \n",
       "\n",
       "[279644 rows x 12 columns]"
      ]
     },
     "execution_count": 52,
     "metadata": {},
     "output_type": "execute_result"
    }
   ],
   "source": [
    "merged_df"
   ]
  },
  {
   "cell_type": "code",
   "execution_count": 54,
   "id": "86cbc7de-c8b2-495b-b9c4-e3c03adfdaf6",
   "metadata": {},
   "outputs": [
    {
     "data": {
      "text/html": [
       "<div>\n",
       "<style scoped>\n",
       "    .dataframe tbody tr th:only-of-type {\n",
       "        vertical-align: middle;\n",
       "    }\n",
       "\n",
       "    .dataframe tbody tr th {\n",
       "        vertical-align: top;\n",
       "    }\n",
       "\n",
       "    .dataframe thead th {\n",
       "        text-align: right;\n",
       "    }\n",
       "</style>\n",
       "<table border=\"1\" class=\"dataframe\">\n",
       "  <thead>\n",
       "    <tr style=\"text-align: right;\">\n",
       "      <th></th>\n",
       "      <th>State</th>\n",
       "      <th>Crop</th>\n",
       "      <th>Year</th>\n",
       "      <th>Season</th>\n",
       "      <th>Area</th>\n",
       "      <th>Area Units</th>\n",
       "      <th>Production</th>\n",
       "      <th>Production Units</th>\n",
       "      <th>Yield</th>\n",
       "      <th>Annual_Rainfall</th>\n",
       "      <th>Fertilizer</th>\n",
       "      <th>Pesticide</th>\n",
       "    </tr>\n",
       "  </thead>\n",
       "  <tbody>\n",
       "    <tr>\n",
       "      <th>279639</th>\n",
       "      <td>manipur</td>\n",
       "      <td>NaN</td>\n",
       "      <td>2019</td>\n",
       "      <td>rabi</td>\n",
       "      <td>NaN</td>\n",
       "      <td>Hectare</td>\n",
       "      <td>NaN</td>\n",
       "      <td>Tonnes</td>\n",
       "      <td>NaN</td>\n",
       "      <td>1442.646505</td>\n",
       "      <td>145.661361</td>\n",
       "      <td>0.271426</td>\n",
       "    </tr>\n",
       "    <tr>\n",
       "      <th>279640</th>\n",
       "      <td>manipur</td>\n",
       "      <td>NaN</td>\n",
       "      <td>2019</td>\n",
       "      <td>rabi</td>\n",
       "      <td>NaN</td>\n",
       "      <td>Hectare</td>\n",
       "      <td>NaN</td>\n",
       "      <td>Tonnes</td>\n",
       "      <td>NaN</td>\n",
       "      <td>1442.646505</td>\n",
       "      <td>145.661361</td>\n",
       "      <td>0.271426</td>\n",
       "    </tr>\n",
       "    <tr>\n",
       "      <th>279641</th>\n",
       "      <td>manipur</td>\n",
       "      <td>NaN</td>\n",
       "      <td>2019</td>\n",
       "      <td>rabi</td>\n",
       "      <td>NaN</td>\n",
       "      <td>Hectare</td>\n",
       "      <td>NaN</td>\n",
       "      <td>Tonnes</td>\n",
       "      <td>NaN</td>\n",
       "      <td>1442.646505</td>\n",
       "      <td>145.661361</td>\n",
       "      <td>0.271426</td>\n",
       "    </tr>\n",
       "    <tr>\n",
       "      <th>279642</th>\n",
       "      <td>manipur</td>\n",
       "      <td>NaN</td>\n",
       "      <td>2019</td>\n",
       "      <td>rabi</td>\n",
       "      <td>NaN</td>\n",
       "      <td>Hectare</td>\n",
       "      <td>NaN</td>\n",
       "      <td>Tonnes</td>\n",
       "      <td>NaN</td>\n",
       "      <td>1442.646505</td>\n",
       "      <td>145.661361</td>\n",
       "      <td>0.271426</td>\n",
       "    </tr>\n",
       "    <tr>\n",
       "      <th>279643</th>\n",
       "      <td>manipur</td>\n",
       "      <td>NaN</td>\n",
       "      <td>2019</td>\n",
       "      <td>rabi</td>\n",
       "      <td>NaN</td>\n",
       "      <td>Hectare</td>\n",
       "      <td>NaN</td>\n",
       "      <td>Tonnes</td>\n",
       "      <td>NaN</td>\n",
       "      <td>1442.646505</td>\n",
       "      <td>145.661361</td>\n",
       "      <td>0.271426</td>\n",
       "    </tr>\n",
       "  </tbody>\n",
       "</table>\n",
       "</div>"
      ],
      "text/plain": [
       "          State Crop  Year Season  Area Area Units  Production  \\\n",
       "279639  manipur  NaN  2019   rabi   NaN    Hectare         NaN   \n",
       "279640  manipur  NaN  2019   rabi   NaN    Hectare         NaN   \n",
       "279641  manipur  NaN  2019   rabi   NaN    Hectare         NaN   \n",
       "279642  manipur  NaN  2019   rabi   NaN    Hectare         NaN   \n",
       "279643  manipur  NaN  2019   rabi   NaN    Hectare         NaN   \n",
       "\n",
       "       Production Units  Yield  Annual_Rainfall  Fertilizer  Pesticide  \n",
       "279639           Tonnes    NaN      1442.646505  145.661361   0.271426  \n",
       "279640           Tonnes    NaN      1442.646505  145.661361   0.271426  \n",
       "279641           Tonnes    NaN      1442.646505  145.661361   0.271426  \n",
       "279642           Tonnes    NaN      1442.646505  145.661361   0.271426  \n",
       "279643           Tonnes    NaN      1442.646505  145.661361   0.271426  "
      ]
     },
     "execution_count": 54,
     "metadata": {},
     "output_type": "execute_result"
    }
   ],
   "source": [
    "merged_df.tail()"
   ]
  },
  {
   "cell_type": "code",
   "execution_count": 56,
   "id": "701d6eb1-33a2-4ede-8ca0-6c4013918eab",
   "metadata": {},
   "outputs": [
    {
     "name": "stdout",
     "output_type": "stream",
     "text": [
      "State                  0\n",
      "Crop                  27\n",
      "Year                   0\n",
      "Season                 1\n",
      "Area                  28\n",
      "Area Units             0\n",
      "Production          4007\n",
      "Production Units       0\n",
      "Yield                 28\n",
      "Annual_Rainfall        0\n",
      "Fertilizer             0\n",
      "Pesticide              0\n",
      "dtype: int64\n"
     ]
    }
   ],
   "source": [
    "# Check the count of null values per column\n",
    "print(merged_df.isnull().sum())\n"
   ]
  },
  {
   "cell_type": "code",
   "execution_count": 58,
   "id": "e1f4e6ec-5aef-4b85-9f4f-168e0b6fb6a8",
   "metadata": {},
   "outputs": [],
   "source": [
    "merged_df = merged_df.dropna(subset=['Crop'])\n"
   ]
  },
  {
   "cell_type": "code",
   "execution_count": 60,
   "id": "24d3acfe-06b4-496b-a38d-d5dfecb2aad2",
   "metadata": {},
   "outputs": [],
   "source": [
    "merged_df = merged_df.dropna(subset=['Season'])\n"
   ]
  },
  {
   "cell_type": "code",
   "execution_count": 62,
   "id": "1efc16f7-cff0-4df4-a515-d340bb6d4d08",
   "metadata": {},
   "outputs": [
    {
     "name": "stdout",
     "output_type": "stream",
     "text": [
      "State                  0\n",
      "Crop                   0\n",
      "Year                   0\n",
      "Season                 0\n",
      "Area                   0\n",
      "Area Units             0\n",
      "Production          3979\n",
      "Production Units       0\n",
      "Yield                  0\n",
      "Annual_Rainfall        0\n",
      "Fertilizer             0\n",
      "Pesticide              0\n",
      "dtype: int64\n"
     ]
    }
   ],
   "source": [
    "print(merged_df.isnull().sum())"
   ]
  },
  {
   "cell_type": "code",
   "execution_count": 64,
   "id": "216fddc0-a2f1-4551-99fd-50cf99f47b9f",
   "metadata": {},
   "outputs": [
    {
     "data": {
      "text/html": [
       "<div>\n",
       "<style scoped>\n",
       "    .dataframe tbody tr th:only-of-type {\n",
       "        vertical-align: middle;\n",
       "    }\n",
       "\n",
       "    .dataframe tbody tr th {\n",
       "        vertical-align: top;\n",
       "    }\n",
       "\n",
       "    .dataframe thead th {\n",
       "        text-align: right;\n",
       "    }\n",
       "</style>\n",
       "<table border=\"1\" class=\"dataframe\">\n",
       "  <thead>\n",
       "    <tr style=\"text-align: right;\">\n",
       "      <th></th>\n",
       "      <th>State</th>\n",
       "      <th>Crop</th>\n",
       "      <th>Year</th>\n",
       "      <th>Season</th>\n",
       "      <th>Area</th>\n",
       "      <th>Area Units</th>\n",
       "      <th>Production</th>\n",
       "      <th>Production Units</th>\n",
       "      <th>Yield</th>\n",
       "      <th>Annual_Rainfall</th>\n",
       "      <th>Fertilizer</th>\n",
       "      <th>Pesticide</th>\n",
       "    </tr>\n",
       "  </thead>\n",
       "  <tbody>\n",
       "    <tr>\n",
       "      <th>0</th>\n",
       "      <td>andhra pradesh</td>\n",
       "      <td>arecanut</td>\n",
       "      <td>2001</td>\n",
       "      <td>whole year</td>\n",
       "      <td>257.0</td>\n",
       "      <td>Hectare</td>\n",
       "      <td>430.0</td>\n",
       "      <td>Tonnes</td>\n",
       "      <td>1.673152</td>\n",
       "      <td>928.4</td>\n",
       "      <td>102.13</td>\n",
       "      <td>0.26</td>\n",
       "    </tr>\n",
       "    <tr>\n",
       "      <th>1</th>\n",
       "      <td>andhra pradesh</td>\n",
       "      <td>arecanut</td>\n",
       "      <td>2002</td>\n",
       "      <td>whole year</td>\n",
       "      <td>263.0</td>\n",
       "      <td>Hectare</td>\n",
       "      <td>379.0</td>\n",
       "      <td>Tonnes</td>\n",
       "      <td>1.441065</td>\n",
       "      <td>648.1</td>\n",
       "      <td>94.67</td>\n",
       "      <td>0.25</td>\n",
       "    </tr>\n",
       "    <tr>\n",
       "      <th>2</th>\n",
       "      <td>andhra pradesh</td>\n",
       "      <td>arecanut</td>\n",
       "      <td>2003</td>\n",
       "      <td>whole year</td>\n",
       "      <td>266.0</td>\n",
       "      <td>Hectare</td>\n",
       "      <td>189.0</td>\n",
       "      <td>Tonnes</td>\n",
       "      <td>0.710526</td>\n",
       "      <td>826.0</td>\n",
       "      <td>98.98</td>\n",
       "      <td>0.24</td>\n",
       "    </tr>\n",
       "    <tr>\n",
       "      <th>3</th>\n",
       "      <td>andhra pradesh</td>\n",
       "      <td>arecanut</td>\n",
       "      <td>2001</td>\n",
       "      <td>whole year</td>\n",
       "      <td>7.0</td>\n",
       "      <td>Hectare</td>\n",
       "      <td>12.0</td>\n",
       "      <td>Tonnes</td>\n",
       "      <td>1.714286</td>\n",
       "      <td>928.4</td>\n",
       "      <td>102.13</td>\n",
       "      <td>0.26</td>\n",
       "    </tr>\n",
       "    <tr>\n",
       "      <th>4</th>\n",
       "      <td>andhra pradesh</td>\n",
       "      <td>arecanut</td>\n",
       "      <td>2002</td>\n",
       "      <td>whole year</td>\n",
       "      <td>7.0</td>\n",
       "      <td>Hectare</td>\n",
       "      <td>10.0</td>\n",
       "      <td>Tonnes</td>\n",
       "      <td>1.428571</td>\n",
       "      <td>648.1</td>\n",
       "      <td>94.67</td>\n",
       "      <td>0.25</td>\n",
       "    </tr>\n",
       "  </tbody>\n",
       "</table>\n",
       "</div>"
      ],
      "text/plain": [
       "            State      Crop  Year      Season   Area Area Units  Production  \\\n",
       "0  andhra pradesh  arecanut  2001  whole year  257.0    Hectare       430.0   \n",
       "1  andhra pradesh  arecanut  2002  whole year  263.0    Hectare       379.0   \n",
       "2  andhra pradesh  arecanut  2003  whole year  266.0    Hectare       189.0   \n",
       "3  andhra pradesh  arecanut  2001  whole year    7.0    Hectare        12.0   \n",
       "4  andhra pradesh  arecanut  2002  whole year    7.0    Hectare        10.0   \n",
       "\n",
       "  Production Units     Yield  Annual_Rainfall  Fertilizer  Pesticide  \n",
       "0           Tonnes  1.673152            928.4      102.13       0.26  \n",
       "1           Tonnes  1.441065            648.1       94.67       0.25  \n",
       "2           Tonnes  0.710526            826.0       98.98       0.24  \n",
       "3           Tonnes  1.714286            928.4      102.13       0.26  \n",
       "4           Tonnes  1.428571            648.1       94.67       0.25  "
      ]
     },
     "execution_count": 64,
     "metadata": {},
     "output_type": "execute_result"
    }
   ],
   "source": [
    "merged_df.head()"
   ]
  },
  {
   "cell_type": "code",
   "execution_count": 66,
   "id": "dde06b7a-b402-4b1d-a1d9-ec7c7a0c9d35",
   "metadata": {},
   "outputs": [
    {
     "name": "stdout",
     "output_type": "stream",
     "text": [
      "                 State       Crop  Year      Season  Area  Yield\n",
      "84      andhra pradesh  arhar/tur  2002        rabi   1.0    0.0\n",
      "198     andhra pradesh      bajra  2002        rabi   1.0    0.0\n",
      "212     andhra pradesh      bajra  2002        rabi   2.0    0.0\n",
      "240     andhra pradesh     banana  2001  whole year   1.0    0.0\n",
      "251     andhra pradesh     banana  2001  whole year  12.0    0.0\n",
      "...                ...        ...   ...         ...   ...    ...\n",
      "275719       telangana    sesamum  2019      kharif   2.0    0.0\n",
      "275721       telangana    sesamum  2019      kharif   1.0    0.0\n",
      "275730       telangana    sesamum  2019      kharif   1.0    0.0\n",
      "275942       telangana      wheat  2019      kharif   1.0    0.0\n",
      "277862   uttar pradesh   sannhamp  2019      kharif   1.0    0.0\n",
      "\n",
      "[3979 rows x 6 columns]\n"
     ]
    }
   ],
   "source": [
    "missing_prod = merged_df[merged_df['Production'].isnull()]\n",
    "print(missing_prod[['State','Crop','Year','Season','Area','Yield']])\n"
   ]
  },
  {
   "cell_type": "code",
   "execution_count": 68,
   "id": "e24b0e0c-d55b-490e-9418-8754646abdd1",
   "metadata": {},
   "outputs": [
    {
     "data": {
      "text/plain": [
       "4627"
      ]
     },
     "execution_count": 68,
     "metadata": {},
     "output_type": "execute_result"
    }
   ],
   "source": [
    "(merged_df['Yield'] == 0).sum()\n"
   ]
  },
  {
   "cell_type": "code",
   "execution_count": 70,
   "id": "3dfdbce5-3550-4844-8cef-32fa8f053bb8",
   "metadata": {},
   "outputs": [
    {
     "data": {
      "text/plain": [
       "3979"
      ]
     },
     "execution_count": 70,
     "metadata": {},
     "output_type": "execute_result"
    }
   ],
   "source": [
    "merged_df[(merged_df['Yield'] == 0) & (merged_df['Production'].isnull())].shape[0]\n"
   ]
  },
  {
   "cell_type": "code",
   "execution_count": 72,
   "id": "8d8377ab-f0c2-4038-9b6c-84da69acfa43",
   "metadata": {},
   "outputs": [
    {
     "data": {
      "text/plain": [
       "648"
      ]
     },
     "execution_count": 72,
     "metadata": {},
     "output_type": "execute_result"
    }
   ],
   "source": [
    "merged_df[(merged_df['Yield'] == 0) & (merged_df['Production'].notnull())].shape[0]\n"
   ]
  },
  {
   "cell_type": "code",
   "execution_count": 74,
   "id": "4c257a07-6251-48a5-9149-7da9abe50591",
   "metadata": {},
   "outputs": [],
   "source": [
    "merged_df = merged_df[~((merged_df['Yield'] == 0) & (merged_df['Production'].isnull()))]\n"
   ]
  },
  {
   "cell_type": "code",
   "execution_count": 76,
   "id": "8d661071-6416-4993-a4eb-03606cb42bcd",
   "metadata": {},
   "outputs": [],
   "source": [
    "mask = (merged_df['Yield'] == 0) & (merged_df['Production'].notnull()) & (merged_df['Area'] > 0)"
   ]
  },
  {
   "cell_type": "code",
   "execution_count": 78,
   "id": "7edd0b76-1985-4a20-b057-5096413bc94d",
   "metadata": {},
   "outputs": [],
   "source": [
    "merged_df.loc[mask, 'Yield'] = merged_df.loc[mask, 'Production'] / merged_df.loc[mask, 'Area']"
   ]
  },
  {
   "cell_type": "code",
   "execution_count": 80,
   "id": "9cf39cb4-e70c-4f93-bad3-9c6903381a27",
   "metadata": {},
   "outputs": [
    {
     "name": "stdout",
     "output_type": "stream",
     "text": [
      "State               0\n",
      "Crop                0\n",
      "Year                0\n",
      "Season              0\n",
      "Area                0\n",
      "Area Units          0\n",
      "Production          0\n",
      "Production Units    0\n",
      "Yield               0\n",
      "Annual_Rainfall     0\n",
      "Fertilizer          0\n",
      "Pesticide           0\n",
      "dtype: int64\n"
     ]
    }
   ],
   "source": [
    "print(merged_df.isnull().sum())"
   ]
  },
  {
   "cell_type": "code",
   "execution_count": 82,
   "id": "569ca001-3bbf-4c7c-bce0-78302d0a01c3",
   "metadata": {},
   "outputs": [
    {
     "data": {
      "text/plain": [
       "0"
      ]
     },
     "execution_count": 82,
     "metadata": {},
     "output_type": "execute_result"
    }
   ],
   "source": [
    "mask_inconsistent = (merged_df['Yield'] == 0) & (merged_df['Production'].notnull())\n",
    "merged_df.loc[mask_inconsistent & (merged_df['Area'] == 0)].shape[0]"
   ]
  },
  {
   "cell_type": "code",
   "execution_count": 84,
   "id": "d38c4d4e-c36e-4527-a250-365679443556",
   "metadata": {},
   "outputs": [],
   "source": [
    "mask_fixable = (merged_df['Yield'] == 0) & (merged_df['Production'].notnull()) & (merged_df['Area'] > 0)\n",
    "merged_df.loc[mask_fixable, 'Yield'] = merged_df.loc[mask_fixable, 'Production'] / merged_df.loc[mask_fixable, 'Area']\n"
   ]
  },
  {
   "cell_type": "code",
   "execution_count": 86,
   "id": "a0488fa7-d758-41be-8182-cd76c130fd9d",
   "metadata": {},
   "outputs": [
    {
     "data": {
      "text/plain": [
       "648"
      ]
     },
     "execution_count": 86,
     "metadata": {},
     "output_type": "execute_result"
    }
   ],
   "source": [
    "merged_df.loc[mask_fixable].shape[0]\n"
   ]
  },
  {
   "cell_type": "code",
   "execution_count": 88,
   "id": "6f34f851-e55c-4a77-be62-9826a9ffda2d",
   "metadata": {},
   "outputs": [
    {
     "data": {
      "text/plain": [
       "648"
      ]
     },
     "execution_count": 88,
     "metadata": {},
     "output_type": "execute_result"
    }
   ],
   "source": [
    "merged_df[(merged_df['Yield'] == 0) & (merged_df['Production'].notnull())].shape[0]\n"
   ]
  },
  {
   "cell_type": "code",
   "execution_count": 90,
   "id": "9191f290-a7fc-4449-ae4c-a27aa80e01d6",
   "metadata": {},
   "outputs": [],
   "source": [
    "merged_df.loc[mask_fixable, 'Yield'] = merged_df['Production'] / merged_df['Area']\n"
   ]
  },
  {
   "cell_type": "code",
   "execution_count": 92,
   "id": "9d5a49cc-ab90-42a2-be73-54c1a5db0118",
   "metadata": {},
   "outputs": [],
   "source": [
    "mask_fixable = (merged_df['Yield'] == 0) & (merged_df['Production'].notnull()) & (merged_df['Area'] > 0)\n"
   ]
  },
  {
   "cell_type": "code",
   "execution_count": 94,
   "id": "46eee7b6-9601-4f28-8031-73d56dfe85e7",
   "metadata": {},
   "outputs": [
    {
     "data": {
      "text/html": [
       "<div>\n",
       "<style scoped>\n",
       "    .dataframe tbody tr th:only-of-type {\n",
       "        vertical-align: middle;\n",
       "    }\n",
       "\n",
       "    .dataframe tbody tr th {\n",
       "        vertical-align: top;\n",
       "    }\n",
       "\n",
       "    .dataframe thead th {\n",
       "        text-align: right;\n",
       "    }\n",
       "</style>\n",
       "<table border=\"1\" class=\"dataframe\">\n",
       "  <thead>\n",
       "    <tr style=\"text-align: right;\">\n",
       "      <th></th>\n",
       "      <th>Area</th>\n",
       "      <th>Production</th>\n",
       "      <th>Yield</th>\n",
       "    </tr>\n",
       "  </thead>\n",
       "  <tbody>\n",
       "    <tr>\n",
       "      <th>307</th>\n",
       "      <td>3.0</td>\n",
       "      <td>0.0</td>\n",
       "      <td>0.0</td>\n",
       "    </tr>\n",
       "    <tr>\n",
       "      <th>315</th>\n",
       "      <td>3.0</td>\n",
       "      <td>0.0</td>\n",
       "      <td>0.0</td>\n",
       "    </tr>\n",
       "    <tr>\n",
       "      <th>1154</th>\n",
       "      <td>1.0</td>\n",
       "      <td>0.0</td>\n",
       "      <td>0.0</td>\n",
       "    </tr>\n",
       "    <tr>\n",
       "      <th>2160</th>\n",
       "      <td>38558.0</td>\n",
       "      <td>0.0</td>\n",
       "      <td>0.0</td>\n",
       "    </tr>\n",
       "    <tr>\n",
       "      <th>2162</th>\n",
       "      <td>51.0</td>\n",
       "      <td>0.0</td>\n",
       "      <td>0.0</td>\n",
       "    </tr>\n",
       "    <tr>\n",
       "      <th>...</th>\n",
       "      <td>...</td>\n",
       "      <td>...</td>\n",
       "      <td>...</td>\n",
       "    </tr>\n",
       "    <tr>\n",
       "      <th>277255</th>\n",
       "      <td>1.0</td>\n",
       "      <td>0.0</td>\n",
       "      <td>0.0</td>\n",
       "    </tr>\n",
       "    <tr>\n",
       "      <th>277267</th>\n",
       "      <td>1.0</td>\n",
       "      <td>0.0</td>\n",
       "      <td>0.0</td>\n",
       "    </tr>\n",
       "    <tr>\n",
       "      <th>277334</th>\n",
       "      <td>1.0</td>\n",
       "      <td>0.0</td>\n",
       "      <td>0.0</td>\n",
       "    </tr>\n",
       "    <tr>\n",
       "      <th>277916</th>\n",
       "      <td>1.0</td>\n",
       "      <td>0.0</td>\n",
       "      <td>0.0</td>\n",
       "    </tr>\n",
       "    <tr>\n",
       "      <th>277919</th>\n",
       "      <td>1.0</td>\n",
       "      <td>0.0</td>\n",
       "      <td>0.0</td>\n",
       "    </tr>\n",
       "  </tbody>\n",
       "</table>\n",
       "<p>648 rows × 3 columns</p>\n",
       "</div>"
      ],
      "text/plain": [
       "           Area  Production  Yield\n",
       "307         3.0         0.0    0.0\n",
       "315         3.0         0.0    0.0\n",
       "1154        1.0         0.0    0.0\n",
       "2160    38558.0         0.0    0.0\n",
       "2162       51.0         0.0    0.0\n",
       "...         ...         ...    ...\n",
       "277255      1.0         0.0    0.0\n",
       "277267      1.0         0.0    0.0\n",
       "277334      1.0         0.0    0.0\n",
       "277916      1.0         0.0    0.0\n",
       "277919      1.0         0.0    0.0\n",
       "\n",
       "[648 rows x 3 columns]"
      ]
     },
     "execution_count": 94,
     "metadata": {},
     "output_type": "execute_result"
    }
   ],
   "source": [
    "merged_df.loc[mask_fixable, ['Area', 'Production', 'Yield']]\n"
   ]
  },
  {
   "cell_type": "code",
   "execution_count": 96,
   "id": "58abf54c-fda3-49da-90ea-266d01bc5a1d",
   "metadata": {},
   "outputs": [
    {
     "data": {
      "text/plain": [
       "(275637, 12)"
      ]
     },
     "execution_count": 96,
     "metadata": {},
     "output_type": "execute_result"
    }
   ],
   "source": [
    "merged_df.shape"
   ]
  },
  {
   "cell_type": "code",
   "execution_count": 98,
   "id": "9ed59b37-008c-4e40-b500-389b0ee3f59e",
   "metadata": {},
   "outputs": [
    {
     "data": {
      "text/plain": [
       "State               0\n",
       "Crop                0\n",
       "Year                0\n",
       "Season              0\n",
       "Area                0\n",
       "Area Units          0\n",
       "Production          0\n",
       "Production Units    0\n",
       "Yield               0\n",
       "Annual_Rainfall     0\n",
       "Fertilizer          0\n",
       "Pesticide           0\n",
       "dtype: int64"
      ]
     },
     "execution_count": 98,
     "metadata": {},
     "output_type": "execute_result"
    }
   ],
   "source": [
    "merged_df.isnull().sum()"
   ]
  },
  {
   "cell_type": "code",
   "execution_count": 100,
   "id": "c3b61b1a-908e-4a3b-a1fb-0eea2f6661f3",
   "metadata": {},
   "outputs": [],
   "source": [
    "merged_df.to_csv(\"inter_data.csv\", index=False)"
   ]
  },
  {
   "cell_type": "code",
   "execution_count": 101,
   "id": "a9b6baee-6306-4c39-86b9-aa4957753056",
   "metadata": {},
   "outputs": [],
   "source": [
    "merged_df = merged_df.drop_duplicates()\n"
   ]
  },
  {
   "cell_type": "code",
   "execution_count": 102,
   "id": "56e205b6-b35b-45c8-9470-dda914450528",
   "metadata": {},
   "outputs": [
    {
     "data": {
      "text/plain": [
       "(266733, 12)"
      ]
     },
     "execution_count": 102,
     "metadata": {},
     "output_type": "execute_result"
    }
   ],
   "source": [
    "merged_df.shape"
   ]
  },
  {
   "cell_type": "code",
   "execution_count": 106,
   "id": "9d14199f-ddad-4a45-9617-95478e6331a9",
   "metadata": {},
   "outputs": [
    {
     "data": {
      "text/html": [
       "<div>\n",
       "<style scoped>\n",
       "    .dataframe tbody tr th:only-of-type {\n",
       "        vertical-align: middle;\n",
       "    }\n",
       "\n",
       "    .dataframe tbody tr th {\n",
       "        vertical-align: top;\n",
       "    }\n",
       "\n",
       "    .dataframe thead th {\n",
       "        text-align: right;\n",
       "    }\n",
       "</style>\n",
       "<table border=\"1\" class=\"dataframe\">\n",
       "  <thead>\n",
       "    <tr style=\"text-align: right;\">\n",
       "      <th></th>\n",
       "      <th>Year</th>\n",
       "      <th>Area</th>\n",
       "      <th>Production</th>\n",
       "      <th>Yield</th>\n",
       "      <th>Annual_Rainfall</th>\n",
       "      <th>Fertilizer</th>\n",
       "      <th>Pesticide</th>\n",
       "    </tr>\n",
       "  </thead>\n",
       "  <tbody>\n",
       "    <tr>\n",
       "      <th>count</th>\n",
       "      <td>266733.000000</td>\n",
       "      <td>266733.000000</td>\n",
       "      <td>2.667330e+05</td>\n",
       "      <td>266733.000000</td>\n",
       "      <td>266733.000000</td>\n",
       "      <td>266733.000000</td>\n",
       "      <td>266733.000000</td>\n",
       "    </tr>\n",
       "    <tr>\n",
       "      <th>mean</th>\n",
       "      <td>2010.551462</td>\n",
       "      <td>10974.565673</td>\n",
       "      <td>1.092944e+06</td>\n",
       "      <td>91.536504</td>\n",
       "      <td>1249.078664</td>\n",
       "      <td>142.297004</td>\n",
       "      <td>0.272840</td>\n",
       "    </tr>\n",
       "    <tr>\n",
       "      <th>std</th>\n",
       "      <td>5.532969</td>\n",
       "      <td>35429.244005</td>\n",
       "      <td>2.321234e+07</td>\n",
       "      <td>994.863160</td>\n",
       "      <td>608.958658</td>\n",
       "      <td>23.507487</td>\n",
       "      <td>0.077743</td>\n",
       "    </tr>\n",
       "    <tr>\n",
       "      <th>min</th>\n",
       "      <td>2001.000000</td>\n",
       "      <td>0.008000</td>\n",
       "      <td>0.000000e+00</td>\n",
       "      <td>0.000000</td>\n",
       "      <td>301.300000</td>\n",
       "      <td>94.670000</td>\n",
       "      <td>0.090000</td>\n",
       "    </tr>\n",
       "    <tr>\n",
       "      <th>25%</th>\n",
       "      <td>2006.000000</td>\n",
       "      <td>86.000000</td>\n",
       "      <td>9.700000e+01</td>\n",
       "      <td>0.583333</td>\n",
       "      <td>890.000000</td>\n",
       "      <td>127.710000</td>\n",
       "      <td>0.220000</td>\n",
       "    </tr>\n",
       "    <tr>\n",
       "      <th>50%</th>\n",
       "      <td>2011.000000</td>\n",
       "      <td>573.000000</td>\n",
       "      <td>7.600000e+02</td>\n",
       "      <td>1.072435</td>\n",
       "      <td>1111.700000</td>\n",
       "      <td>150.960000</td>\n",
       "      <td>0.270000</td>\n",
       "    </tr>\n",
       "    <tr>\n",
       "      <th>75%</th>\n",
       "      <td>2015.000000</td>\n",
       "      <td>4040.000000</td>\n",
       "      <td>7.345000e+03</td>\n",
       "      <td>2.680836</td>\n",
       "      <td>1430.200000</td>\n",
       "      <td>157.910000</td>\n",
       "      <td>0.330000</td>\n",
       "    </tr>\n",
       "    <tr>\n",
       "      <th>max</th>\n",
       "      <td>2020.000000</td>\n",
       "      <td>877029.000000</td>\n",
       "      <td>1.597800e+09</td>\n",
       "      <td>43958.333333</td>\n",
       "      <td>5649.100000</td>\n",
       "      <td>193.610000</td>\n",
       "      <td>0.380000</td>\n",
       "    </tr>\n",
       "  </tbody>\n",
       "</table>\n",
       "</div>"
      ],
      "text/plain": [
       "                Year           Area    Production          Yield  \\\n",
       "count  266733.000000  266733.000000  2.667330e+05  266733.000000   \n",
       "mean     2010.551462   10974.565673  1.092944e+06      91.536504   \n",
       "std         5.532969   35429.244005  2.321234e+07     994.863160   \n",
       "min      2001.000000       0.008000  0.000000e+00       0.000000   \n",
       "25%      2006.000000      86.000000  9.700000e+01       0.583333   \n",
       "50%      2011.000000     573.000000  7.600000e+02       1.072435   \n",
       "75%      2015.000000    4040.000000  7.345000e+03       2.680836   \n",
       "max      2020.000000  877029.000000  1.597800e+09   43958.333333   \n",
       "\n",
       "       Annual_Rainfall     Fertilizer      Pesticide  \n",
       "count    266733.000000  266733.000000  266733.000000  \n",
       "mean       1249.078664     142.297004       0.272840  \n",
       "std         608.958658      23.507487       0.077743  \n",
       "min         301.300000      94.670000       0.090000  \n",
       "25%         890.000000     127.710000       0.220000  \n",
       "50%        1111.700000     150.960000       0.270000  \n",
       "75%        1430.200000     157.910000       0.330000  \n",
       "max        5649.100000     193.610000       0.380000  "
      ]
     },
     "execution_count": 106,
     "metadata": {},
     "output_type": "execute_result"
    }
   ],
   "source": [
    "merged_df.describe()\n"
   ]
  },
  {
   "cell_type": "code",
   "execution_count": 108,
   "id": "597e3413-51f6-41c2-a1fc-d462b05f2a98",
   "metadata": {},
   "outputs": [
    {
     "data": {
      "image/png": "[encoded data removed]",
      "text/plain": [
       "<Figure size 600x300 with 1 Axes>"
      ]
     },
     "metadata": {},
     "output_type": "display_data"
    },
    {
     "data": {
      "image/png": "[encoded data removed]",
      "text/plain": [
       "<Figure size 600x300 with 1 Axes>"
      ]
     },
     "metadata": {},
     "output_type": "display_data"
    },
    {
     "data": {
      "image/png": "[encoded data removed]",
      "text/plain": [
       "<Figure size 600x300 with 1 Axes>"
      ]
     },
     "metadata": {},
     "output_type": "display_data"
    },
    {
     "data": {
      "image/png": "[encoded data removed]",
      "text/plain": [
       "<Figure size 600x300 with 1 Axes>"
      ]
     },
     "metadata": {},
     "output_type": "display_data"
    },
    {
     "data": {
      "image/png": "[encoded data removed]",
      "text/plain": [
       "<Figure size 600x300 with 1 Axes>"
      ]
     },
     "metadata": {},
     "output_type": "display_data"
    },
    {
     "data": {
      "image/png": "[encoded data removed]",
      "text/plain": [
       "<Figure size 600x300 with 1 Axes>"
      ]
     },
     "metadata": {},
     "output_type": "display_data"
    }
   ],
   "source": [
    "\n",
    "num_cols = ['Area', 'Production', 'Yield', 'Annual_Rainfall', 'Fertilizer', 'Pesticide']\n",
    "for col in num_cols:\n",
    "    plt.figure(figsize=(6,3))\n",
    "    sns.boxplot(x=merged_df[col])\n",
    "    plt.title(col)\n",
    "    plt.show()"
   ]
  },
  {
   "cell_type": "code",
   "execution_count": 109,
   "id": "84853f1d-92f6-4e8b-a72b-90a921a78cbb",
   "metadata": {},
   "outputs": [
    {
     "data": {
      "image/png": "[encoded data removed]",
      "text/plain": [
       "<Figure size 600x300 with 1 Axes>"
      ]
     },
     "metadata": {},
     "output_type": "display_data"
    },
    {
     "data": {
      "image/png": "[encoded data removed]",
      "text/plain": [
       "<Figure size 600x300 with 1 Axes>"
      ]
     },
     "metadata": {},
     "output_type": "display_data"
    },
    {
     "data": {
      "image/png": "[encoded data removed]",
      "text/plain": [
       "<Figure size 600x300 with 1 Axes>"
      ]
     },
     "metadata": {},
     "output_type": "display_data"
    }
   ],
   "source": [
    "import numpy as np\n",
    "import seaborn as sns\n",
    "import matplotlib.pyplot as plt\n",
    "\n",
    "for col in ['Area', 'Production', 'Yield']:\n",
    "    plt.figure(figsize=(6,3))\n",
    "    sns.boxplot(x=np.log1p(merged_df[col]))  # log1p avoids log(0)\n",
    "    plt.title(f'Log-Transformed {col}')\n",
    "    plt.show()\n"
   ]
  },
  {
   "cell_type": "code",
   "execution_count": 114,
   "id": "43c51272-94c9-4366-b352-0dea59be2bee",
   "metadata": {},
   "outputs": [
    {
     "name": "stdout",
     "output_type": "stream",
     "text": [
      "Outliers detected: 2348 / 266733 (0.88%)\n"
     ]
    },
    {
     "data": {
      "text/html": [
       "<div>\n",
       "<style scoped>\n",
       "    .dataframe tbody tr th:only-of-type {\n",
       "        vertical-align: middle;\n",
       "    }\n",
       "\n",
       "    .dataframe tbody tr th {\n",
       "        vertical-align: top;\n",
       "    }\n",
       "\n",
       "    .dataframe thead th {\n",
       "        text-align: right;\n",
       "    }\n",
       "</style>\n",
       "<table border=\"1\" class=\"dataframe\">\n",
       "  <thead>\n",
       "    <tr style=\"text-align: right;\">\n",
       "      <th></th>\n",
       "      <th>State</th>\n",
       "      <th>Crop</th>\n",
       "      <th>Year</th>\n",
       "      <th>Yield</th>\n",
       "      <th>zscore</th>\n",
       "    </tr>\n",
       "  </thead>\n",
       "  <tbody>\n",
       "    <tr>\n",
       "      <th>1071</th>\n",
       "      <td>andhra pradesh</td>\n",
       "      <td>jowar</td>\n",
       "      <td>2003</td>\n",
       "      <td>4.550968</td>\n",
       "      <td>5.141309</td>\n",
       "    </tr>\n",
       "    <tr>\n",
       "      <th>1840</th>\n",
       "      <td>andhra pradesh</td>\n",
       "      <td>rice</td>\n",
       "      <td>2003</td>\n",
       "      <td>5.256997</td>\n",
       "      <td>3.070348</td>\n",
       "    </tr>\n",
       "    <tr>\n",
       "      <th>2304</th>\n",
       "      <td>andhra pradesh</td>\n",
       "      <td>sweet potato</td>\n",
       "      <td>2001</td>\n",
       "      <td>28.072727</td>\n",
       "      <td>3.456122</td>\n",
       "    </tr>\n",
       "    <tr>\n",
       "      <th>2305</th>\n",
       "      <td>andhra pradesh</td>\n",
       "      <td>sweet potato</td>\n",
       "      <td>2002</td>\n",
       "      <td>28.189655</td>\n",
       "      <td>3.478256</td>\n",
       "    </tr>\n",
       "    <tr>\n",
       "      <th>3355</th>\n",
       "      <td>assam</td>\n",
       "      <td>coconut</td>\n",
       "      <td>2001</td>\n",
       "      <td>26270.833333</td>\n",
       "      <td>3.740846</td>\n",
       "    </tr>\n",
       "    <tr>\n",
       "      <th>6413</th>\n",
       "      <td>bihar</td>\n",
       "      <td>maize</td>\n",
       "      <td>2001</td>\n",
       "      <td>10.114413</td>\n",
       "      <td>4.516139</td>\n",
       "    </tr>\n",
       "    <tr>\n",
       "      <th>6664</th>\n",
       "      <td>bihar</td>\n",
       "      <td>masoor</td>\n",
       "      <td>2003</td>\n",
       "      <td>1.943006</td>\n",
       "      <td>3.605467</td>\n",
       "    </tr>\n",
       "    <tr>\n",
       "      <th>6706</th>\n",
       "      <td>bihar</td>\n",
       "      <td>masoor</td>\n",
       "      <td>2003</td>\n",
       "      <td>3.030207</td>\n",
       "      <td>6.844562</td>\n",
       "    </tr>\n",
       "    <tr>\n",
       "      <th>7191</th>\n",
       "      <td>bihar</td>\n",
       "      <td>other kharif pulses</td>\n",
       "      <td>2003</td>\n",
       "      <td>2.300000</td>\n",
       "      <td>3.461486</td>\n",
       "    </tr>\n",
       "    <tr>\n",
       "      <th>7218</th>\n",
       "      <td>bihar</td>\n",
       "      <td>other kharif pulses</td>\n",
       "      <td>2003</td>\n",
       "      <td>4.800000</td>\n",
       "      <td>8.598163</td>\n",
       "    </tr>\n",
       "  </tbody>\n",
       "</table>\n",
       "</div>"
      ],
      "text/plain": [
       "               State                 Crop  Year         Yield    zscore\n",
       "1071  andhra pradesh                jowar  2003      4.550968  5.141309\n",
       "1840  andhra pradesh                 rice  2003      5.256997  3.070348\n",
       "2304  andhra pradesh         sweet potato  2001     28.072727  3.456122\n",
       "2305  andhra pradesh         sweet potato  2002     28.189655  3.478256\n",
       "3355           assam              coconut  2001  26270.833333  3.740846\n",
       "6413           bihar                maize  2001     10.114413  4.516139\n",
       "6664           bihar               masoor  2003      1.943006  3.605467\n",
       "6706           bihar               masoor  2003      3.030207  6.844562\n",
       "7191           bihar  other kharif pulses  2003      2.300000  3.461486\n",
       "7218           bihar  other kharif pulses  2003      4.800000  8.598163"
      ]
     },
     "execution_count": 114,
     "metadata": {},
     "output_type": "execute_result"
    }
   ],
   "source": [
    "# Create a copy for inspection\n",
    "df_preview = merged_df.copy()\n",
    "\n",
    "# Compute z-score of Yield within each Crop group\n",
    "df_preview['zscore'] = df_preview.groupby('Crop')['Yield'].transform(\n",
    "    lambda x: (x - x.mean()) / x.std()\n",
    ")\n",
    "\n",
    "# Show how many are outliers (|z| > 3)\n",
    "outlier_count = (abs(df_preview['zscore']) > 3).sum()\n",
    "total = len(df_preview)\n",
    "print(f\"Outliers detected: {outlier_count} / {total} ({outlier_count/total*100:.2f}%)\")\n",
    "\n",
    "# Inspect a few sample outliers\n",
    "df_preview.loc[abs(df_preview['zscore']) > 3, \n",
    "               ['State', 'Crop', 'Year', 'Yield', 'zscore']].head(10)\n"
   ]
  },
  {
   "cell_type": "code",
   "execution_count": 122,
   "id": "07b352ef-07d8-4ea7-9d10-93abf55443c3",
   "metadata": {},
   "outputs": [
    {
     "data": {
      "text/plain": [
       "State                object\n",
       "Crop                 object\n",
       "Year                  int32\n",
       "Season               object\n",
       "Area                float64\n",
       "Area Units           object\n",
       "Production          float64\n",
       "Production Units     object\n",
       "Yield               float64\n",
       "Annual_Rainfall     float64\n",
       "Fertilizer          float64\n",
       "Pesticide           float64\n",
       "dtype: object"
      ]
     },
     "execution_count": 122,
     "metadata": {},
     "output_type": "execute_result"
    }
   ],
   "source": [
    "merged_df.dtypes"
   ]
  },
  {
   "cell_type": "code",
   "execution_count": 124,
   "id": "20c8ec39-3aab-4c74-893e-1f7567225bd7",
   "metadata": {},
   "outputs": [],
   "source": [
    "merged_df.to_csv(\"inter_data.csv\",index=False)"
   ]
  },
  {
   "cell_type": "code",
   "execution_count": null,
   "id": "1682b45e-5d80-4b5c-8b84-503b01069d4a",
   "metadata": {},
   "outputs": [],
   "source": []
  }
 ],
 "metadata": {
  "kernelspec": {
   "display_name": "Python [conda env:base] *",
   "language": "python",
   "name": "conda-base-py"
  },
  "language_info": {
   "codemirror_mode": {
    "name": "ipython",
    "version": 3
   },
   "file_extension": ".py",
   "mimetype": "text/x-python",
   "name": "python",
   "nbconvert_exporter": "python",
   "pygments_lexer": "ipython3",
   "version": "3.12.7"
  }
 },
 "nbformat": 4,
 "nbformat_minor": 5
}
